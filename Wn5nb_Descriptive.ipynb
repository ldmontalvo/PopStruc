{
 "cells": [
  {
   "cell_type": "markdown",
   "metadata": {},
   "source": [
    "## Hybridization in Wrens - N5NB"
   ]
  },
  {
   "cell_type": "markdown",
   "metadata": {},
   "source": [
    "#### DESCRIPTIVE STATISTICS ####"
   ]
  },
  {
   "cell_type": "code",
   "execution_count": 3,
   "metadata": {},
   "outputs": [],
   "source": [
    "rm(list=ls())\n",
    "\n",
    "setwd(\"C:/Users/Owner/Desktop/Dropbox/Thesis/Molecular_Wrens/Wren_1/R\")"
   ]
  },
  {
   "cell_type": "code",
   "execution_count": 4,
   "metadata": {},
   "outputs": [
    {
     "name": "stderr",
     "output_type": "stream",
     "text": [
      "Installing package into 'C:/Users/Owner/Documents/R/win-library/4.0'\n",
      "(as 'lib' is unspecified)\n",
      "\n"
     ]
    },
    {
     "name": "stdout",
     "output_type": "stream",
     "text": [
      "package 'adegenet' successfully unpacked and MD5 sums checked\n"
     ]
    },
    {
     "name": "stderr",
     "output_type": "stream",
     "text": [
      "Warning message:\n",
      "\"cannot remove prior installation of package 'adegenet'\"\n",
      "Warning message in file.copy(savedcopy, lib, recursive = TRUE):\n",
      "\"problem copying C:\\Users\\Owner\\Documents\\R\\win-library\\4.0\\00LOCK\\adegenet\\libs\\x64\\adegenet.dll to C:\\Users\\Owner\\Documents\\R\\win-library\\4.0\\adegenet\\libs\\x64\\adegenet.dll: Permission denied\"\n",
      "Warning message:\n",
      "\"restored 'adegenet'\"\n"
     ]
    },
    {
     "name": "stdout",
     "output_type": "stream",
     "text": [
      "\n",
      "The downloaded binary packages are in\n",
      "\tC:\\Users\\Owner\\AppData\\Local\\Temp\\RtmpIRtJ60\\downloaded_packages\n"
     ]
    },
    {
     "name": "stderr",
     "output_type": "stream",
     "text": [
      "Loading required package: ade4\n",
      "\n",
      "Registered S3 method overwritten by 'spdep':\n",
      "  method   from\n",
      "  plot.mst ape \n",
      "\n",
      "\n",
      "   /// adegenet 2.1.3 is loaded ////////////\n",
      "\n",
      "   > overview: '?adegenet'\n",
      "   > tutorials/doc/questions: 'adegenetWeb()' \n",
      "   > bug reports/feature requests: adegenetIssues()\n",
      "\n",
      "\n",
      "\n",
      "\n",
      "Attaching package: 'adegenet'\n",
      "\n",
      "\n",
      "The following object is masked from 'package:hierfstat':\n",
      "\n",
      "    read.fstat\n",
      "\n",
      "\n"
     ]
    }
   ],
   "source": [
    "install.packages(\"adegenet\")\n",
    "library(adegenet)"
   ]
  },
  {
   "cell_type": "markdown",
   "metadata": {},
   "source": [
    "We can read directly the *STRUCTURE* file and converting it into a *genind* (the format for *adegenet*) with the following command."
   ]
  },
  {
   "cell_type": "code",
   "execution_count": 6,
   "metadata": {},
   "outputs": [
    {
     "name": "stdout",
     "output_type": "stream",
     "text": [
      "\n",
      " Converting data from a STRUCTURE .stru file to a genind object... \n",
      "\n"
     ]
    }
   ],
   "source": [
    "# Reading and converting STRUCTURE file into genind\n",
    "wren.n5nb.genind <- import2genind(\"populations2.str\", onerowperind=FALSE, n.ind=112, n.loc=4409, col.lab=1, col.pop=2, ask=FALSE)"
   ]
  },
  {
   "cell_type": "markdown",
   "metadata": {},
   "source": [
    "We need to prepare the data. Reading the file with the order of samples as it was enter in *STACK* and the file with the location of collection (populations)."
   ]
  },
  {
   "cell_type": "code",
   "execution_count": 7,
   "metadata": {},
   "outputs": [],
   "source": [
    "# Read the pop file with different designation of populations\n",
    "indtable <- read.table(\"wren_pop.txt\", col.names = c(\"Ind\", \"Pop3\", \"Pop4\", \"Pop6\", \"Pop\"))[-c(1),]\n",
    "\n",
    "# Read the pop file used in the denovo assembly in Stacks \n",
    "# I need this to get the order of samples\n",
    "stack.ord <- read.table(\"popmap_wren_n5nb_sh11.txt\", col.names = c(\"Ind\", \"ord\"))\n",
    "\n",
    "# Adding a column for the order of samples\n",
    "stack.ord$ord <- 1:nrow(stack.ord)\n",
    "\n",
    "# Merging the pop and the order files\n",
    "pop.lab <- merge(indtable, stack.ord, by=\"Ind\")[,c(1,3,5,6)]\n",
    "\n",
    "# Ordering the labels as in the genind file\n",
    "pop.lab <- pop.lab[order(pop.lab$ord, decreasing = FALSE),]\n",
    "\n",
    "# Setting up the populations in the genind data\n",
    "strata(wren.n5nb.genind) <- pop.lab\n",
    "setPop(wren.n5nb.genind) <- ~Pop"
   ]
  },
  {
   "cell_type": "markdown",
   "metadata": {},
   "source": [
    "Visualizing the number of samples per location (population)"
   ]
  },
  {
   "cell_type": "code",
   "execution_count": 8,
   "metadata": {},
   "outputs": [
    {
     "data": {
      "image/png": "[encoded data removed]",
      "text/plain": [
       "plot without title"
      ]
     },
     "metadata": {
      "image/png": {
       "height": 420,
       "width": 420
      }
     },
     "output_type": "display_data"
    }
   ],
   "source": [
    "# Check the number of samples per locality (populations)\n",
    "par(mar=c(11,4,4,4)) # Setting the margins\n",
    "barplot(table(pop(wren.n5nb.genind)), col=funky(17), \n",
    "        las=3,  ylab=\"Sample size\")\n",
    "mtext(text=\"Populations\",\n",
    "      side=1, line=10) # Setting the possition, side=1 bottom, line=9 the higher the closer to the lower margin"
   ]
  },
  {
   "cell_type": "markdown",
   "metadata": {},
   "source": [
    "Heterozygosity is  way of measuring genetic variability. Lower observed heterozygosity than expected is a sign of some force driving this patterns such as inbreeding."
   ]
  },
  {
   "cell_type": "code",
   "execution_count": 16,
   "metadata": {},
   "outputs": [
    {
     "data": {
      "image/png": "[encoded data removed]",
      "text/plain": [
       "plot without title"
      ]
     },
     "metadata": {
      "image/png": {
       "height": 420,
       "width": 420
      }
     },
     "output_type": "display_data"
    }
   ],
   "source": [
    "# Plotting the observed vs the expected heterozygosity\n",
    "plot(summary$Hexp, summary$Hobs, pch=20, cex=3, xlim=c(0,0.7), ylim=c(0,0.7))\n",
    "abline(0,1,lty=2)"
   ]
  },
  {
   "cell_type": "markdown",
   "metadata": {},
   "source": [
    "We can visualized how much each population or subpopulation diverge from all populations or metapopulation. One measure we can use for this is the Fst. Fst is the reduction of heterozygosity due to the structure of the metapopulation. Below plot the Fst of each subpopulation or how much this population diverge from others."
   ]
  },
  {
   "cell_type": "code",
   "execution_count": 10,
   "metadata": {},
   "outputs": [
    {
     "name": "stderr",
     "output_type": "stream",
     "text": [
      "Warning message:\n",
      "\"package 'hierfstat' is in use and will not be installed\"\n"
     ]
    }
   ],
   "source": [
    "## Plotting the Fst per population\n",
    "install.packages(\"hierfstat\")\n",
    "library(hierfstat)"
   ]
  },
  {
   "cell_type": "code",
   "execution_count": null,
   "metadata": {},
   "outputs": [],
   "source": [
    "# Estimate the pairwise Fst\n",
    "wren.n5nb.hier <- genind2hierfstat(wren.n5nb.genind)\n",
    "wn5nb.pwFst <- pairwise.neifst(wren.n5nb.hier, diploid=TRUE)"
   ]
  },
  {
   "cell_type": "code",
   "execution_count": 16,
   "metadata": {},
   "outputs": [
    {
     "data": {
      "image/png": "[encoded data removed]",
      "text/plain": [
       "plot without title"
      ]
     },
     "metadata": {
      "image/png": {
       "height": 420,
       "width": 420
      }
     },
     "output_type": "display_data"
    }
   ],
   "source": [
    "par(mar=c(11,4,4,4)) # Setting the margins\n",
    "temp <- as.matrix(wn5nb.pwFst)\n",
    "diag(temp) <- NA\n",
    "boxplot(temp, col=funky(nPop(wren.n5nb.genind)), las=3, ylab=\"Fst\")\n",
    "mtext(text=\"Populations\",\n",
    "      side=1, line=10)"
   ]
  },
  {
   "cell_type": "markdown",
   "metadata": {},
   "source": [
    "We can also examine if the differences we saw in the barplot above are significant by performing an analisis molecular of variance or AMOVA. "
   ]
  },
  {
   "cell_type": "code",
   "execution_count": 17,
   "metadata": {},
   "outputs": [
    {
     "name": "stderr",
     "output_type": "stream",
     "text": [
      "Installing package into 'C:/Users/Owner/Documents/R/win-library/4.0'\n",
      "(as 'lib' is unspecified)\n",
      "\n"
     ]
    },
    {
     "name": "stdout",
     "output_type": "stream",
     "text": [
      "package 'poppr' successfully unpacked and MD5 sums checked\n",
      "\n",
      "The downloaded binary packages are in\n",
      "\tC:\\Users\\Owner\\AppData\\Local\\Temp\\RtmpIRtJ60\\downloaded_packages\n"
     ]
    },
    {
     "name": "stderr",
     "output_type": "stream",
     "text": [
      "Registered S3 method overwritten by 'pegas':\n",
      "  method      from\n",
      "  print.amova ade4\n",
      "\n",
      "This is poppr version 2.8.7. To get started, type package?poppr\n",
      "OMP parallel support: available\n",
      "\n"
     ]
    }
   ],
   "source": [
    "install.packages(\"poppr\")\n",
    "library(poppr)"
   ]
  },
  {
   "cell_type": "code",
   "execution_count": 18,
   "metadata": {},
   "outputs": [
    {
     "name": "stderr",
     "output_type": "stream",
     "text": [
      "\n",
      " No missing values detected.\n",
      "\n",
      "\n"
     ]
    },
    {
     "data": {
      "text/plain": [
       "\n",
       "\tAnalysis of Molecular Variance\n",
       "\n",
       "Call: pegas::amova(formula = hier, data = hierdf, nperm = nperm, is.squared = FALSE)\n",
       "\n",
       "            SSD       MSD  df\n",
       "Pop    48900.71 2573.7215  19\n",
       "Error  81362.71  884.3773  92\n",
       "Total 130263.42 1173.5443 111\n",
       "\n",
       "Variance components:\n",
       "      sigma2 P.value\n",
       "Pop   308.95       0\n",
       "Error 884.38        \n",
       "\n",
       "Phi-statistics:\n",
       "Pop.in.GLOBAL \n",
       "     0.258897 \n",
       "\n",
       "Variance coefficients:\n",
       "       a \n",
       "5.468045 \n"
      ]
     },
     "metadata": {},
     "output_type": "display_data"
    }
   ],
   "source": [
    "# Perform a amova among geographic location (populations)\n",
    "wn5nb.amova <- poppr.amova(wren.n5nb.genind, hier=~Pop, within=FALSE, method=\"pegas\", nperm=100)\n",
    "wn5nb.amova"
   ]
  },
  {
   "cell_type": "code",
   "execution_count": null,
   "metadata": {},
   "outputs": [],
   "source": []
  },
  {
   "cell_type": "code",
   "execution_count": null,
   "metadata": {},
   "outputs": [],
   "source": []
  }
 ],
 "metadata": {
  "kernelspec": {
   "display_name": "R",
   "language": "R",
   "name": "ir"
  },
  "language_info": {
   "codemirror_mode": "r",
   "file_extension": ".r",
   "mimetype": "text/x-r-source",
   "name": "R",
   "pygments_lexer": "r",
   "version": "4.0.3"
  }
 },
 "nbformat": 4,
 "nbformat_minor": 4
}

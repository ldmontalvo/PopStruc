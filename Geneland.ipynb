{
 "cells": [
  {
   "cell_type": "markdown",
   "id": "finite-regular",
   "metadata": {},
   "source": [
    "## Running Geneland - N5NB\n"
   ]
  },
  {
   "cell_type": "markdown",
   "id": "challenging-angle",
   "metadata": {},
   "source": [
    "The data use here comes from ddRadseq from 112 samples of Campylorhynchus zonatus and Campylorhynchus fasciatus that occur along the precipitation gradient on the Pacific region of Ecuador. N5NB means that this SNPs data set does not contain index group 5 from the sequencing (low reading in the samples) and the outgroup Campylorhynchus bruneicapillus. This is just a code to indentified the data set I'm working on."
   ]
  },
  {
   "cell_type": "markdown",
   "id": "turkish-origin",
   "metadata": {},
   "source": [
    "Setting the directory and reading SNPs and coordinates files"
   ]
  },
  {
   "cell_type": "code",
   "execution_count": null,
   "id": "bigger-dispute",
   "metadata": {},
   "outputs": [],
   "source": [
    "setwd(\"C:/Users/Owner/Desktop/Dropbox/Thesis/Molecular_Wrens/Wren_1/Geneland\")"
   ]
  },
  {
   "cell_type": "markdown",
   "id": "funded-jamaica",
   "metadata": {},
   "source": [
    "### Data Management"
   ]
  },
  {
   "cell_type": "markdown",
   "id": "biological-announcement",
   "metadata": {},
   "source": [
    "Reading the SPNs data as txt, this is the structure format from the output of Stack except I manually deleted the first line of credit and the save it as txt in excel."
   ]
  },
  {
   "cell_type": "code",
   "execution_count": null,
   "id": "split-remedy",
   "metadata": {},
   "outputs": [],
   "source": [
    "wn5nb <- read.table(\"wn5nb_2.txt\", header = TRUE, row.names = NULL)"
   ]
  },
  {
   "cell_type": "code",
   "execution_count": null,
   "id": "unlimited-purse",
   "metadata": {},
   "outputs": [],
   "source": [
    "We will need the following package to data management."
   ]
  },
  {
   "cell_type": "code",
   "execution_count": null,
   "id": "tired-nursery",
   "metadata": {},
   "outputs": [],
   "source": [
    "install.packages(\"tidyverse\")\n",
    "library(tidyverse)"
   ]
  },
  {
   "cell_type": "markdown",
   "id": "physical-watson",
   "metadata": {},
   "source": [
    "I created this function that take the txt file in Structure long format and gives the Geneland format as output.\n"
   ]
  },
  {
   "cell_type": "code",
   "execution_count": null,
   "id": "brazilian-julian",
   "metadata": {},
   "outputs": [],
   "source": [
    "struc2geneland <-function(data, nsnp, ploid, samples, pop){\n",
    "        \n",
    "        data$id <- rep(1:samples, each=ploid)\n",
    "\n",
    "        arg1=pop\n",
    "        arg2=data\n",
    "\n",
    "        pop.del <- function(arg1, arg2){\n",
    "                if(arg1==1){\n",
    "                      x <- arg2[,-c(1,2)]   \n",
    "               }\n",
    "                else {\n",
    "                      x <- arg2[,-1] \n",
    "                }\n",
    "               return(x)\n",
    "        }\n",
    "\n",
    "                 output <- pop.del(pop, data)\n",
    "                 output <-  pivot_longer(output, cols=!id, names_to=\"marker\", values_to=\"snp\")\n",
    "                 output$dip <- rep(1:nsnp,samples*ploid)\n",
    "                 output <- output[order(output$id, output$dip),]\n",
    "                 output$dip <- rep(1:(nsnp*ploid), samples)\n",
    "                 output <- output[,-2]\n",
    "                 output <- pivot_wider(output, names_from=dip, values_from=snp)\n",
    "                 output <- output[,-1]\n",
    "                 output[output==0] <- NA\n",
    "        return(output)\n",
    "}"
   ]
  },
  {
   "cell_type": "markdown",
   "id": "acoustic-hungarian",
   "metadata": {},
   "source": [
    "Now we use the function I created above. We have to write down the parameter for our specific data set."
   ]
  },
  {
   "cell_type": "code",
   "execution_count": null,
   "id": "gentle-kinase",
   "metadata": {},
   "outputs": [],
   "source": [
    "wn5nb.2 <- struc2geneland(data=wn5nb, nsnp=4409, ploid=2, samples=112, pop=0)"
   ]
  },
  {
   "cell_type": "markdown",
   "id": "cubic-proposition",
   "metadata": {},
   "source": [
    "We can save this geneland format SNPs file in your local computer in case you need it for other analysis."
   ]
  },
  {
   "cell_type": "code",
   "execution_count": null,
   "id": "utility-maximum",
   "metadata": {},
   "outputs": [],
   "source": [
    "write.table(wn5nb.2, \"./wn5nb_geneland_hg.txt\", row.names=FALSE, col.names=FALSE)"
   ]
  },
  {
   "cell_type": "markdown",
   "id": "baking-clock",
   "metadata": {},
   "source": [
    "#### Putting Coordinates of Samples in the Same Order as in the SNPs file"
   ]
  },
  {
   "cell_type": "markdown",
   "id": "surface-fundamental",
   "metadata": {},
   "source": [
    "We have an issue now. We need the coordinate for each sample or population for a Spatial Explicit model in Geneland. The order of samples has to be the same as the SNPs geneland-format file. So we need to do some data management there. I am going to use the popmap file use in Stack to tell the software the labels of samples and populations. The output files from Stack and our Geneland-format files have the same order. "
   ]
  },
  {
   "cell_type": "code",
   "execution_count": null,
   "id": "welsh-alcohol",
   "metadata": {},
   "outputs": [],
   "source": [
    "labels <- read.table(\"popmap_wren_n5nb_sh11.txt\", col.names = c(\"Ind\", \"ord\"))"
   ]
  },
  {
   "cell_type": "markdown",
   "id": "fundamental-jefferson",
   "metadata": {},
   "source": [
    "Adding a column for the order of samples"
   ]
  },
  {
   "cell_type": "code",
   "execution_count": null,
   "id": "drawn-forth",
   "metadata": {},
   "outputs": [],
   "source": [
    "labels$ord <- 1:nrow(labels)"
   ]
  },
  {
   "cell_type": "markdown",
   "id": "curious-wesley",
   "metadata": {},
   "source": [
    "I also going to use the meta data of the samples, including coordinates, locations names, etc.\n"
   ]
  },
  {
   "cell_type": "code",
   "execution_count": null,
   "id": "desirable-article",
   "metadata": {},
   "outputs": [],
   "source": [
    "labels.all <- read.table(\"Labels.field.csv\", header=TRUE, sep=\",\", na.strings=TRUE, fileEncoding = \"UTF-8-BOM\")\n"
   ]
  },
  {
   "cell_type": "markdown",
   "id": "smart-carol",
   "metadata": {},
   "source": [
    "Merging the data set with coordinates and samples order"
   ]
  },
  {
   "cell_type": "code",
   "execution_count": null,
   "id": "another-highland",
   "metadata": {},
   "outputs": [],
   "source": [
    "coor <- merge(labels, labels.all, by=\"Ind\")[,c(1,2,9,10)]"
   ]
  },
  {
   "cell_type": "markdown",
   "id": "fifth-watershed",
   "metadata": {},
   "source": [
    "Ordering by samples"
   ]
  },
  {
   "cell_type": "code",
   "execution_count": null,
   "id": "loose-approach",
   "metadata": {},
   "outputs": [],
   "source": [
    "coor2 <- coor[order(coor$ord,  decreasing = FALSE), -c(1:2)]"
   ]
  },
  {
   "cell_type": "markdown",
   "id": "invalid-carol",
   "metadata": {},
   "source": [
    "Geneland read Longitude as the firsts collumns. I switch the columns for geneland format and making them numeric."
   ]
  },
  {
   "cell_type": "code",
   "execution_count": null,
   "id": "working-radio",
   "metadata": {},
   "outputs": [],
   "source": [
    "coor3 <- cbind(as.numeric(as.character(coor2$Long)), as.numeric(as.character(coor2$Lat)))"
   ]
  },
  {
   "cell_type": "markdown",
   "id": "similar-feature",
   "metadata": {},
   "source": [
    "We have another issue. Geneland use UTM coordinate system. The delta parameter the function Geneland specifies a buffer around the coordinates that works as noise when the coordinates are not very accurate. For this reason it is better for the software to deal with a planar system. We have to transform the coordinates to UTM."
   ]
  },
  {
   "cell_type": "markdown",
   "id": "dietary-project",
   "metadata": {},
   "source": [
    "Installing rgdal to transform coordinates"
   ]
  },
  {
   "cell_type": "code",
   "execution_count": null,
   "id": "experimental-marble",
   "metadata": {},
   "outputs": [],
   "source": [
    "install.packages(\"rgdal\")\n",
    "library(rgdal)"
   ]
  },
  {
   "cell_type": "markdown",
   "id": "lucky-cocktail",
   "metadata": {},
   "source": [
    "Setting the coordinates system as Long/Lat"
   ]
  },
  {
   "cell_type": "code",
   "execution_count": null,
   "id": "designing-implementation",
   "metadata": {},
   "outputs": [],
   "source": [
    "cord.dec = SpatialPoints(cbind(coor3[,1], coor3[,2]), proj4string=CRS(\"+proj=longlat +datum=WGS84 +no_defs +ellps=WGS84\"))"
   ]
  },
  {
   "cell_type": "markdown",
   "id": "forbidden-tiger",
   "metadata": {},
   "source": [
    "Converting to UTM, I'm using UTM zone 17s (epsg=32717) because most of the territory of Ecuador is in this zone."
   ]
  },
  {
   "cell_type": "code",
   "execution_count": null,
   "id": "grand-terminology",
   "metadata": {},
   "outputs": [],
   "source": [
    "coor.utm <- spTransform(cord.dec, CRS(\"+init=epsg:32717\"))\n",
    "colnames(coor.utm@coords) <- c(\"X\", \"Y\")"
   ]
  },
  {
   "cell_type": "markdown",
   "id": "sensitive-animal",
   "metadata": {},
   "source": [
    "Write the coordinates to use it in other analyses."
   ]
  },
  {
   "cell_type": "code",
   "execution_count": null,
   "id": "available-command",
   "metadata": {},
   "outputs": [],
   "source": [
    "write.table(coor.utm@coords, \"./coord1.txt\", row.names=FALSE, col.names=FALSE)"
   ]
  },
  {
   "cell_type": "markdown",
   "id": "bulgarian-reading",
   "metadata": {},
   "source": [
    "### Running Geneland"
   ]
  },
  {
   "cell_type": "markdown",
   "id": "breathing-idaho",
   "metadata": {},
   "source": [
    "Reading the SNPs and coordinates files."
   ]
  },
  {
   "cell_type": "code",
   "execution_count": null,
   "id": "scientific-respondent",
   "metadata": {},
   "outputs": [],
   "source": [
    "# Read the file in geneland format\n",
    "wn5nb <- read.table(\"./wn5nb_geneland_hg.txt\", header = FALSE, row.names = NULL)\n",
    "\n",
    "# Read the file of coordinates\n",
    "coord <- read.table(\"./coord.txt\", header = FALSE, row.names = NULL)"
   ]
  },
  {
   "cell_type": "markdown",
   "id": "affiliated-extension",
   "metadata": {},
   "source": [
    "Installing Geneland: first we have to install MiKTeX in your local computer and devtools. To install MiKTeX go to https://miktex.org/download and follow the instructions."
   ]
  },
  {
   "cell_type": "markdown",
   "id": "cooperative-franchise",
   "metadata": {},
   "source": [
    "Then install devtools"
   ]
  },
  {
   "cell_type": "code",
   "execution_count": null,
   "id": "bridal-provider",
   "metadata": {},
   "outputs": [],
   "source": [
    "install.packages(\"devtools\")\n",
    "library(devtools)"
   ]
  },
  {
   "cell_type": "markdown",
   "id": "brave-labor",
   "metadata": {},
   "source": [
    "Install Geneland"
   ]
  },
  {
   "cell_type": "code",
   "execution_count": null,
   "id": "perfect-insulin",
   "metadata": {},
   "outputs": [],
   "source": [
    "if( ! 'devtools' %in% installed.packages() )  { install.packages('devtools') }\n",
    "devtools::install_github('gilles-guillot/Geneland', build_vignettes = TRUE)"
   ]
  },
  {
   "cell_type": "code",
   "execution_count": null,
   "id": "occupied-malpractice",
   "metadata": {},
   "outputs": [],
   "source": [
    "# Installing Geneland\n",
    "library(Geneland)"
   ]
  },
  {
   "cell_type": "markdown",
   "id": "reflected-vessel",
   "metadata": {},
   "source": [
    "Calling parallel packages, not need to install. It comes with base"
   ]
  },
  {
   "cell_type": "code",
   "execution_count": null,
   "id": "falling-recall",
   "metadata": {},
   "outputs": [],
   "source": [
    "library(parallel)"
   ]
  },
  {
   "cell_type": "markdown",
   "id": "absolute-monaco",
   "metadata": {},
   "source": [
    "Creating some vectors for the burnins, runs and Ks. You can run more replicates and Ks by modifying the vectors below. Before modifying the vectors, be sure you have enough computing power. "
   ]
  },
  {
   "cell_type": "code",
   "execution_count": null,
   "id": "recreational-sleeping",
   "metadata": {},
   "outputs": [],
   "source": [
    "nrun <- 1:30\n",
    "burnin <- 200\n",
    "ks <- 2:15"
   ]
  },
  {
   "cell_type": "markdown",
   "id": "stable-mention",
   "metadata": {},
   "source": [
    "In the next lines, I create directories for each K and run (replicate). Each K will run in a separate core in your computer. You need to be sure you have enough cores for your code. If you are not running this code in a hpc (high performace computing) like hipergator, you can figure out how many cores do you have by running detectCores() after calling the parallel package.\n",
    "\n",
    "There a lot of techniques to run functions in parallel. I experience some issues using Foreach and DoParallel in Linux when I tried to ran MCMC in the hpc. In case you are running MCMC in Windows, you can try these methods."
   ]
  },
  {
   "cell_type": "code",
   "execution_count": null,
   "id": "accompanied-pharmacy",
   "metadata": {},
   "outputs": [],
   "source": [
    "parallel::mclapply(1:length(ks), function(g, n, i, r) {\n",
    "  for(r in 1:length(nrun)){\n",
    "  path.mcmc <- paste(\"./Output/\", \"k\", g[i], \"r\", n[r],  \"/\", sep=\"\")\n",
    "  dir.create(path=path.mcmc)\n",
    "  Geneland::MCMC(coordinates=coord,\n",
    "                 geno.dip.codom=wn5nb,\n",
    "                 varnpop=TRUE,\n",
    "                 npopmax=g[i],\n",
    "                 spatial=TRUE,\n",
    "                 freq.model=\"Correlated\",\n",
    "                 delta.coord=1000,\n",
    "                 nit=500000,\n",
    "                 thinning=100,\n",
    "                 path.mcmc=path.mcmc)\n",
    "  \n",
    "  ## MCMC postprocessing\n",
    "  PostProcessChain(coordinates=coord,\n",
    "                   path.mcmc=path.mcmc,\n",
    "                   nxdom=200,\n",
    "                   nydom=200,\n",
    "                   burnin=burnin)\n",
    "  }\n",
    "}, n=nrun, g=ks, mc.cores=16)"
   ]
  },
  {
   "cell_type": "raw",
   "id": "sound-foundation",
   "metadata": {},
   "source": [
    "This is just an example. You can modify this code to change the numbers of ks, burnins, runs, and iterations according to the computing power you have available. This code run each K (14 in total) and all the replicates for each K in separate cores. I set the number of cores (mc.cores) with two more (16 cores) so you don't run out of memory."
   ]
  },
  {
   "cell_type": "code",
   "execution_count": null,
   "id": "pleased-indonesia",
   "metadata": {},
   "outputs": [],
   "source": []
  },
  {
   "cell_type": "code",
   "execution_count": null,
   "id": "electoral-terry",
   "metadata": {},
   "outputs": [],
   "source": []
  }
 ],
 "metadata": {
  "kernelspec": {
   "display_name": "R",
   "language": "R",
   "name": "ir"
  },
  "language_info": {
   "codemirror_mode": "r",
   "file_extension": ".r",
   "mimetype": "text/x-r-source",
   "name": "R",
   "pygments_lexer": "r",
   "version": "4.0.3"
  }
 },
 "nbformat": 4,
 "nbformat_minor": 5
}
